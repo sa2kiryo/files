{
 "cells": [
  {
   "cell_type": "code",
   "execution_count": 32,
   "metadata": {},
   "outputs": [
    {
     "name": "stdout",
     "output_type": "stream",
     "text": [
      "完了\n"
     ]
    }
   ],
   "source": [
    "####pandaが書式を判定してくれないため、ひとまず電話番号と郵便番号の文字列に'をつける\n",
    "\n",
    "import openpyxl\n",
    "\n",
    "#エクセル取り込み\n",
    "wb = openpyxl.load_workbook('order.xlsx')\n",
    "sheet = wb['Sheet1']\n",
    "\n",
    "#エクセルの列名カウント\n",
    "i = 1\n",
    "\n",
    "#エクセルの縦1、横3行目に「進捗」と書き込む。\n",
    "sheet.cell(row=1, column=3).value = \"電話番号_完\" \n",
    "sheet.cell(row=1, column=4).value = \"進捗\" \n",
    "\n",
    "#ループ開始\n",
    "while True:\n",
    "    i = i + 1\n",
    "    \n",
    "    #注文番号の取得\n",
    "    cell_c = sheet.cell(row=i, column=1)\n",
    "    entity_id = cell_c.value\n",
    "\n",
    "    #注文番号が存在していれば、次の操作を行う\n",
    "    if entity_id != None:\n",
    "        \n",
    "        #▽▽▽▽▽▽▽▽電話番号操作▽▽▽▽▽▽▽▽\n",
    "        \n",
    "        #電話番号を取得\n",
    "        cell_t = sheet.cell(row=i, column=2)\n",
    "        \n",
    "        #電話番号を文字列として変換しておく（これやらないと、数値と認識されて、文字操作ができなくなる）\n",
    "        tel_id = str(cell_t.value)        \n",
    "        \n",
    "        #文字置き換え（ハイフンが含まれたら、消す）\n",
    "        tel_id = tel_id.replace('-', '')\n",
    "        \n",
    "        #加工した電話番号を、もとのエクセルに書き込みなおす\n",
    "        sheet.cell(row=i, column=3).value = tel_id\n",
    "        \n",
    "        #△△△△△△△△電話番号操作終了△△△△△△△△\n",
    "        \n",
    "        \n",
    "        #対応した列に「対応済み」と記載\n",
    "        sheet.cell(row=i, column=4).value = str(i) + \"番目OK\"\n",
    "        \n",
    "    else:\n",
    "        #注文番号がなければ、ループを抜ける。\n",
    "        break\n",
    "        \n",
    "wb.save('order_comp.xlsx')\n",
    "\n",
    "print(\"完了\")\n"
   ]
  },
  {
   "cell_type": "code",
   "execution_count": null,
   "metadata": {},
   "outputs": [],
   "source": []
  }
 ],
 "metadata": {
  "kernelspec": {
   "display_name": "Python 3",
   "language": "python",
   "name": "python3"
  },
  "language_info": {
   "codemirror_mode": {
    "name": "ipython",
    "version": 3
   },
   "file_extension": ".py",
   "mimetype": "text/x-python",
   "name": "python",
   "nbconvert_exporter": "python",
   "pygments_lexer": "ipython3",
   "version": "3.7.1"
  }
 },
 "nbformat": 4,
 "nbformat_minor": 2
}
